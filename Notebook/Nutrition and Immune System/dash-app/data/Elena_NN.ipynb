{
 "cells": [
  {
   "cell_type": "code",
   "execution_count": 1,
   "metadata": {},
   "outputs": [],
   "source": [
    "import pandas as pd\n",
    "data = pd.read_csv('models_performance/23predictors/Fat_Supply_Quantity_Data.csv')"
   ]
  },
  {
   "cell_type": "code",
   "execution_count": 2,
   "metadata": {},
   "outputs": [
    {
     "data": {
      "text/html": [
       "<div>\n",
       "<style scoped>\n",
       "    .dataframe tbody tr th:only-of-type {\n",
       "        vertical-align: middle;\n",
       "    }\n",
       "\n",
       "    .dataframe tbody tr th {\n",
       "        vertical-align: top;\n",
       "    }\n",
       "\n",
       "    .dataframe thead th {\n",
       "        text-align: right;\n",
       "    }\n",
       "</style>\n",
       "<table border=\"1\" class=\"dataframe\">\n",
       "  <thead>\n",
       "    <tr style=\"text-align: right;\">\n",
       "      <th></th>\n",
       "      <th>Unnamed: 0</th>\n",
       "      <th>Methods</th>\n",
       "      <th>R^2 Score</th>\n",
       "      <th>best_parameters</th>\n",
       "    </tr>\n",
       "  </thead>\n",
       "  <tbody>\n",
       "    <tr>\n",
       "      <th>0</th>\n",
       "      <td>0</td>\n",
       "      <td>Linear Regression</td>\n",
       "      <td>-358.032485</td>\n",
       "      <td>{'copy_X': True, 'fit_intercept': True, 'n_job...</td>\n",
       "    </tr>\n",
       "    <tr>\n",
       "      <th>1</th>\n",
       "      <td>1</td>\n",
       "      <td>Redge</td>\n",
       "      <td>-0.085804</td>\n",
       "      <td>{'cv': 5, 'error_score': nan, 'estimator__alph...</td>\n",
       "    </tr>\n",
       "    <tr>\n",
       "      <th>2</th>\n",
       "      <td>2</td>\n",
       "      <td>Lasso</td>\n",
       "      <td>-0.030558</td>\n",
       "      <td>{'cv': 5, 'error_score': nan, 'estimator__alph...</td>\n",
       "    </tr>\n",
       "    <tr>\n",
       "      <th>3</th>\n",
       "      <td>3</td>\n",
       "      <td>SVR</td>\n",
       "      <td>-0.495003</td>\n",
       "      <td>{'cv': 5, 'error_score': nan, 'estimator__C': ...</td>\n",
       "    </tr>\n",
       "    <tr>\n",
       "      <th>4</th>\n",
       "      <td>4</td>\n",
       "      <td>DecissionTree</td>\n",
       "      <td>-0.016595</td>\n",
       "      <td>{'cv': 5, 'error_score': nan, 'estimator__ccp_...</td>\n",
       "    </tr>\n",
       "    <tr>\n",
       "      <th>5</th>\n",
       "      <td>5</td>\n",
       "      <td>RandomForest</td>\n",
       "      <td>-0.066921</td>\n",
       "      <td>{'cv': 5, 'error_score': nan, 'estimator__boot...</td>\n",
       "    </tr>\n",
       "  </tbody>\n",
       "</table>\n",
       "</div>"
      ],
      "text/plain": [
       "   Unnamed: 0            Methods   R^2 Score  \\\n",
       "0           0  Linear Regression -358.032485   \n",
       "1           1              Redge   -0.085804   \n",
       "2           2              Lasso   -0.030558   \n",
       "3           3                SVR   -0.495003   \n",
       "4           4      DecissionTree   -0.016595   \n",
       "5           5       RandomForest   -0.066921   \n",
       "\n",
       "                                     best_parameters  \n",
       "0  {'copy_X': True, 'fit_intercept': True, 'n_job...  \n",
       "1  {'cv': 5, 'error_score': nan, 'estimator__alph...  \n",
       "2  {'cv': 5, 'error_score': nan, 'estimator__alph...  \n",
       "3  {'cv': 5, 'error_score': nan, 'estimator__C': ...  \n",
       "4  {'cv': 5, 'error_score': nan, 'estimator__ccp_...  \n",
       "5  {'cv': 5, 'error_score': nan, 'estimator__boot...  "
      ]
     },
     "execution_count": 2,
     "metadata": {},
     "output_type": "execute_result"
    }
   ],
   "source": [
    "data"
   ]
  },
  {
   "cell_type": "code",
   "execution_count": 13,
   "metadata": {},
   "outputs": [],
   "source": [
    "data = pd.read_csv('models_performance/23predictors/Fat_Supply_Quantity_Data.csv')"
   ]
  },
  {
   "cell_type": "code",
   "execution_count": 14,
   "metadata": {},
   "outputs": [],
   "source": [
    "data[['Methods', 'R^2 Score']].to_excel('23pred.xls')"
   ]
  },
  {
   "cell_type": "code",
   "execution_count": 7,
   "metadata": {},
   "outputs": [
    {
     "data": {
      "text/html": [
       "<div>\n",
       "<style scoped>\n",
       "    .dataframe tbody tr th:only-of-type {\n",
       "        vertical-align: middle;\n",
       "    }\n",
       "\n",
       "    .dataframe tbody tr th {\n",
       "        vertical-align: top;\n",
       "    }\n",
       "\n",
       "    .dataframe thead th {\n",
       "        text-align: right;\n",
       "    }\n",
       "</style>\n",
       "<table border=\"1\" class=\"dataframe\">\n",
       "  <thead>\n",
       "    <tr style=\"text-align: right;\">\n",
       "      <th></th>\n",
       "      <th>Unnamed: 0</th>\n",
       "      <th>Methods</th>\n",
       "      <th>R^2 Score</th>\n",
       "      <th>best_parameters</th>\n",
       "    </tr>\n",
       "  </thead>\n",
       "  <tbody>\n",
       "    <tr>\n",
       "      <th>0</th>\n",
       "      <td>0</td>\n",
       "      <td>Linear Regression</td>\n",
       "      <td>-11.067666</td>\n",
       "      <td>{'copy_X': True, 'fit_intercept': True, 'n_job...</td>\n",
       "    </tr>\n",
       "    <tr>\n",
       "      <th>1</th>\n",
       "      <td>1</td>\n",
       "      <td>Redge</td>\n",
       "      <td>0.120897</td>\n",
       "      <td>{'cv': 5, 'error_score': nan, 'estimator__alph...</td>\n",
       "    </tr>\n",
       "    <tr>\n",
       "      <th>2</th>\n",
       "      <td>2</td>\n",
       "      <td>Lasso</td>\n",
       "      <td>0.414764</td>\n",
       "      <td>{'cv': 5, 'error_score': nan, 'estimator__alph...</td>\n",
       "    </tr>\n",
       "    <tr>\n",
       "      <th>3</th>\n",
       "      <td>3</td>\n",
       "      <td>SVR</td>\n",
       "      <td>0.167899</td>\n",
       "      <td>{'cv': 5, 'error_score': nan, 'estimator__C': ...</td>\n",
       "    </tr>\n",
       "    <tr>\n",
       "      <th>4</th>\n",
       "      <td>4</td>\n",
       "      <td>DecissionTree</td>\n",
       "      <td>0.499443</td>\n",
       "      <td>{'cv': 5, 'error_score': nan, 'estimator__ccp_...</td>\n",
       "    </tr>\n",
       "    <tr>\n",
       "      <th>5</th>\n",
       "      <td>5</td>\n",
       "      <td>RandomForest</td>\n",
       "      <td>0.186278</td>\n",
       "      <td>{'cv': 5, 'error_score': nan, 'estimator__boot...</td>\n",
       "    </tr>\n",
       "  </tbody>\n",
       "</table>\n",
       "</div>"
      ],
      "text/plain": [
       "   Unnamed: 0            Methods  R^2 Score  \\\n",
       "0           0  Linear Regression -11.067666   \n",
       "1           1              Redge   0.120897   \n",
       "2           2              Lasso   0.414764   \n",
       "3           3                SVR   0.167899   \n",
       "4           4      DecissionTree   0.499443   \n",
       "5           5       RandomForest   0.186278   \n",
       "\n",
       "                                     best_parameters  \n",
       "0  {'copy_X': True, 'fit_intercept': True, 'n_job...  \n",
       "1  {'cv': 5, 'error_score': nan, 'estimator__alph...  \n",
       "2  {'cv': 5, 'error_score': nan, 'estimator__alph...  \n",
       "3  {'cv': 5, 'error_score': nan, 'estimator__C': ...  \n",
       "4  {'cv': 5, 'error_score': nan, 'estimator__ccp_...  \n",
       "5  {'cv': 5, 'error_score': nan, 'estimator__boot...  "
      ]
     },
     "execution_count": 7,
     "metadata": {},
     "output_type": "execute_result"
    }
   ],
   "source": [
    "data = pd.read_csv('models_performance/2predictors/Fat_Supply_Quantity_Data.csv')\n",
    "data"
   ]
  },
  {
   "cell_type": "code",
   "execution_count": 11,
   "metadata": {},
   "outputs": [
    {
     "name": "stdout",
     "output_type": "stream",
     "text": [
      "Defaulting to user installation because normal site-packages is not writeable\n",
      "Collecting xlwt\n",
      "  Downloading xlwt-1.3.0-py2.py3-none-any.whl (99 kB)\n",
      "\u001b[K     |████████████████████████████████| 99 kB 2.6 MB/s eta 0:00:011\n",
      "\u001b[?25hInstalling collected packages: xlwt\n",
      "Successfully installed xlwt-1.3.0\n"
     ]
    }
   ],
   "source": [
    "!pip install xlwt"
   ]
  },
  {
   "cell_type": "code",
   "execution_count": null,
   "metadata": {},
   "outputs": [],
   "source": []
  }
 ],
 "metadata": {
  "kernelspec": {
   "display_name": "Python 3",
   "language": "python",
   "name": "python3"
  },
  "language_info": {
   "codemirror_mode": {
    "name": "ipython",
    "version": 3
   },
   "file_extension": ".py",
   "mimetype": "text/x-python",
   "name": "python",
   "nbconvert_exporter": "python",
   "pygments_lexer": "ipython3",
   "version": "3.6.10"
  }
 },
 "nbformat": 4,
 "nbformat_minor": 4
}
