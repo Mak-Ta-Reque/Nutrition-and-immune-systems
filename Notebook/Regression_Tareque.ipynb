{
 "cells": [
  {
   "cell_type": "markdown",
   "metadata": {},
   "source": [
    "Name: Md Abdul Kadir\n",
    "\n",
    "Linear Model\n"
   ]
  },
  {
   "cell_type": "code",
   "execution_count": 74,
   "metadata": {},
   "outputs": [],
   "source": [
    "#Imports\n",
    "import pandas as pd\n",
    "import numpy as np"
   ]
  },
  {
   "cell_type": "code",
   "execution_count": 75,
   "metadata": {},
   "outputs": [],
   "source": [
    "# Importan Methodes\n",
    "# Replace the nan vale with mean, median, or most frequent value\n",
    "def replaceNaN(dataframe, replaceby = \"mean\"):\n",
    "    if (replaceby == \"mean\"):\n",
    "        return dataframe.fillna(dataframe.mean())\n",
    "    \n",
    "    elif (replaceby == \"median\"):\n",
    "        return dataframe.fillna(dataframe.median())\n",
    "    \n",
    "    elif (replaceby == \"mostfrq\"):\n",
    "        return dataframe.fillna(dataframe.mode().iloc[0])\n",
    "    \n",
    "    else:return dataframe.dropna()\n",
    "    \n",
    "# Replce any nonnumaric char from a column.    \n",
    "def replce_char(dataframe,collumn, char=r'^<'):\n",
    "    dataframe[collumn] =  dataframe[collumn].replace(regex=char, value='')\n",
    "    dataframe[collumn] = pd.to_numeric(dataframe[collumn],errors='coerce')\n",
    "    return dataframe\n",
    "    \n",
    "    \n",
    "    \n",
    "# Scale the data using standard scaler or max min scaler. Menstion the names to scale. \n",
    "def scale(dataframe, coulumns, scaler=\"ss\"):\n",
    "    if (scaler == \"mm\"):\n",
    "        from sklearn.preprocessing import MinMaxScaler\n",
    "        scaler = MinMaxScaler()\n",
    "        dataframe[coulumns] = scaler.fit_transform(dataframe[coulumns])\n",
    "        return dataframe\n",
    "    elif (scaler == \"ss\"):\n",
    "        from sklearn.preprocessing import StandardScaler\n",
    "        scaler = StandardScaler()\n",
    "        datqframe[coulumns] = scaler.fit_transform(dataframe[coulumns])\n",
    "        return dataframe\n",
    "    \n",
    "    else:return dataframe\n",
    "        \n",
    "    \n",
    "\n",
    "    "
   ]
  },
  {
   "cell_type": "code",
   "execution_count": 76,
   "metadata": {},
   "outputs": [],
   "source": [
    "#Load Dtasets\n",
    "\n",
    "# Load Protein Supply Data\n",
    "\n",
    "Protein_Supply_DF = pd.read_csv(\"../Data/updated_07_06_2020/Food_Supply_Quantity_kg_Data.csv\")\n",
    "Protein_Supply_DF = replaceNaN(Protein_Supply_DF, replaceby=\"mostfrq\")\n",
    "\n"
   ]
  },
  {
   "cell_type": "code",
   "execution_count": 77,
   "metadata": {},
   "outputs": [],
   "source": [
    "##Standard Scaler \n",
    "NOT_IPMORTANT_COLUMNS = [\"Country\", 'Unit (all except Population)', 'Population']\n",
    "\n",
    "clm = Protein_Supply_DF.columns.drop(NOT_IPMORTANT_COLUMNS)\n",
    "\n",
    "Protein_Supply_DF = replce_char(Protein_Supply_DF,\"Undernourished\", char=r'^<')\n",
    "scaled_df = scale(Protein_Supply_DF, clm, scaler=\"mm\")\n"
   ]
  },
  {
   "cell_type": "code",
   "execution_count": 78,
   "metadata": {},
   "outputs": [
    {
     "data": {
      "text/html": [
       "<div>\n",
       "<style scoped>\n",
       "    .dataframe tbody tr th:only-of-type {\n",
       "        vertical-align: middle;\n",
       "    }\n",
       "\n",
       "    .dataframe tbody tr th {\n",
       "        vertical-align: top;\n",
       "    }\n",
       "\n",
       "    .dataframe thead th {\n",
       "        text-align: right;\n",
       "    }\n",
       "</style>\n",
       "<table border=\"1\" class=\"dataframe\">\n",
       "  <thead>\n",
       "    <tr style=\"text-align: right;\">\n",
       "      <th></th>\n",
       "      <th>Country</th>\n",
       "      <th>Alcoholic Beverages</th>\n",
       "      <th>Animal fats</th>\n",
       "      <th>Animal Products</th>\n",
       "      <th>Aquatic Products, Other</th>\n",
       "      <th>Cereals - Excluding Beer</th>\n",
       "      <th>Eggs</th>\n",
       "      <th>Fish, Seafood</th>\n",
       "      <th>Fruits - Excluding Wine</th>\n",
       "      <th>Meat</th>\n",
       "      <th>...</th>\n",
       "      <th>Vegetables</th>\n",
       "      <th>Vegetal Products</th>\n",
       "      <th>Obesity</th>\n",
       "      <th>Undernourished</th>\n",
       "      <th>Confirmed</th>\n",
       "      <th>Deaths</th>\n",
       "      <th>Recovered</th>\n",
       "      <th>Active</th>\n",
       "      <th>Population</th>\n",
       "      <th>Unit (all except Population)</th>\n",
       "    </tr>\n",
       "  </thead>\n",
       "  <tbody>\n",
       "    <tr>\n",
       "      <th>0</th>\n",
       "      <td>Ethiopia</td>\n",
       "      <td>0.159675</td>\n",
       "      <td>0.019632</td>\n",
       "      <td>0.141426</td>\n",
       "      <td>0.000000</td>\n",
       "      <td>0.707360</td>\n",
       "      <td>0.021231</td>\n",
       "      <td>0.003036</td>\n",
       "      <td>0.027774</td>\n",
       "      <td>0.049936</td>\n",
       "      <td>...</td>\n",
       "      <td>0.053566</td>\n",
       "      <td>0.858439</td>\n",
       "      <td>0.034483</td>\n",
       "      <td>0.316988</td>\n",
       "      <td>0.002133</td>\n",
       "      <td>0.000288</td>\n",
       "      <td>0.000488</td>\n",
       "      <td>0.003700</td>\n",
       "      <td>112079000.0</td>\n",
       "      <td>%</td>\n",
       "    </tr>\n",
       "    <tr>\n",
       "      <th>1</th>\n",
       "      <td>Luxembourg</td>\n",
       "      <td>0.526056</td>\n",
       "      <td>0.400989</td>\n",
       "      <td>0.511572</td>\n",
       "      <td>0.003037</td>\n",
       "      <td>0.065720</td>\n",
       "      <td>0.456671</td>\n",
       "      <td>0.181552</td>\n",
       "      <td>0.205142</td>\n",
       "      <td>0.472345</td>\n",
       "      <td>...</td>\n",
       "      <td>0.216706</td>\n",
       "      <td>0.487988</td>\n",
       "      <td>0.508046</td>\n",
       "      <td>0.000000</td>\n",
       "      <td>0.860508</td>\n",
       "      <td>0.211868</td>\n",
       "      <td>1.000000</td>\n",
       "      <td>0.012167</td>\n",
       "      <td>620000.0</td>\n",
       "      <td>%</td>\n",
       "    </tr>\n",
       "    <tr>\n",
       "      <th>2</th>\n",
       "      <td>Botswana</td>\n",
       "      <td>0.277914</td>\n",
       "      <td>0.250351</td>\n",
       "      <td>0.505400</td>\n",
       "      <td>0.000000</td>\n",
       "      <td>0.304154</td>\n",
       "      <td>0.069553</td>\n",
       "      <td>0.036625</td>\n",
       "      <td>0.117303</td>\n",
       "      <td>0.246737</td>\n",
       "      <td>...</td>\n",
       "      <td>0.173447</td>\n",
       "      <td>0.494562</td>\n",
       "      <td>0.321839</td>\n",
       "      <td>0.418564</td>\n",
       "      <td>0.002066</td>\n",
       "      <td>0.000523</td>\n",
       "      <td>0.001602</td>\n",
       "      <td>0.001762</td>\n",
       "      <td>2283000.0</td>\n",
       "      <td>%</td>\n",
       "    </tr>\n",
       "    <tr>\n",
       "      <th>3</th>\n",
       "      <td>Croatia</td>\n",
       "      <td>0.324294</td>\n",
       "      <td>0.168721</td>\n",
       "      <td>0.619225</td>\n",
       "      <td>0.000298</td>\n",
       "      <td>0.089808</td>\n",
       "      <td>0.222236</td>\n",
       "      <td>0.101053</td>\n",
       "      <td>0.147496</td>\n",
       "      <td>0.427246</td>\n",
       "      <td>...</td>\n",
       "      <td>0.632333</td>\n",
       "      <td>0.380612</td>\n",
       "      <td>0.574713</td>\n",
       "      <td>0.000000</td>\n",
       "      <td>0.072968</td>\n",
       "      <td>0.030627</td>\n",
       "      <td>0.083370</td>\n",
       "      <td>0.001054</td>\n",
       "      <td>4055000.0</td>\n",
       "      <td>%</td>\n",
       "    </tr>\n",
       "    <tr>\n",
       "      <th>4</th>\n",
       "      <td>Vanuatu</td>\n",
       "      <td>0.015770</td>\n",
       "      <td>0.057790</td>\n",
       "      <td>0.194267</td>\n",
       "      <td>0.000000</td>\n",
       "      <td>0.113956</td>\n",
       "      <td>0.097841</td>\n",
       "      <td>0.243183</td>\n",
       "      <td>0.276278</td>\n",
       "      <td>0.305938</td>\n",
       "      <td>...</td>\n",
       "      <td>0.165948</td>\n",
       "      <td>0.805737</td>\n",
       "      <td>0.491954</td>\n",
       "      <td>0.082312</td>\n",
       "      <td>0.000000</td>\n",
       "      <td>0.000000</td>\n",
       "      <td>0.000000</td>\n",
       "      <td>0.000000</td>\n",
       "      <td>313000.0</td>\n",
       "      <td>%</td>\n",
       "    </tr>\n",
       "    <tr>\n",
       "      <th>...</th>\n",
       "      <td>...</td>\n",
       "      <td>...</td>\n",
       "      <td>...</td>\n",
       "      <td>...</td>\n",
       "      <td>...</td>\n",
       "      <td>...</td>\n",
       "      <td>...</td>\n",
       "      <td>...</td>\n",
       "      <td>...</td>\n",
       "      <td>...</td>\n",
       "      <td>...</td>\n",
       "      <td>...</td>\n",
       "      <td>...</td>\n",
       "      <td>...</td>\n",
       "      <td>...</td>\n",
       "      <td>...</td>\n",
       "      <td>...</td>\n",
       "      <td>...</td>\n",
       "      <td>...</td>\n",
       "      <td>...</td>\n",
       "      <td>...</td>\n",
       "    </tr>\n",
       "    <tr>\n",
       "      <th>165</th>\n",
       "      <td>Saudi Arabia</td>\n",
       "      <td>0.000000</td>\n",
       "      <td>0.288361</td>\n",
       "      <td>0.447645</td>\n",
       "      <td>0.000000</td>\n",
       "      <td>0.489602</td>\n",
       "      <td>0.344716</td>\n",
       "      <td>0.114441</td>\n",
       "      <td>0.342307</td>\n",
       "      <td>0.588290</td>\n",
       "      <td>...</td>\n",
       "      <td>0.262730</td>\n",
       "      <td>0.552413</td>\n",
       "      <td>0.756322</td>\n",
       "      <td>0.080560</td>\n",
       "      <td>0.393281</td>\n",
       "      <td>0.024848</td>\n",
       "      <td>0.338389</td>\n",
       "      <td>0.208590</td>\n",
       "      <td>34218000.0</td>\n",
       "      <td>%</td>\n",
       "    </tr>\n",
       "    <tr>\n",
       "      <th>166</th>\n",
       "      <td>Slovakia</td>\n",
       "      <td>0.398592</td>\n",
       "      <td>1.000000</td>\n",
       "      <td>0.685757</td>\n",
       "      <td>0.000000</td>\n",
       "      <td>0.075794</td>\n",
       "      <td>0.547276</td>\n",
       "      <td>0.076503</td>\n",
       "      <td>0.154839</td>\n",
       "      <td>0.505964</td>\n",
       "      <td>...</td>\n",
       "      <td>0.200792</td>\n",
       "      <td>0.314568</td>\n",
       "      <td>0.466667</td>\n",
       "      <td>0.015762</td>\n",
       "      <td>0.036769</td>\n",
       "      <td>0.006131</td>\n",
       "      <td>0.040497</td>\n",
       "      <td>0.005118</td>\n",
       "      <td>5454000.0</td>\n",
       "      <td>%</td>\n",
       "    </tr>\n",
       "    <tr>\n",
       "      <th>167</th>\n",
       "      <td>Ireland</td>\n",
       "      <td>0.492518</td>\n",
       "      <td>0.642114</td>\n",
       "      <td>0.669338</td>\n",
       "      <td>0.000298</td>\n",
       "      <td>0.109998</td>\n",
       "      <td>0.263979</td>\n",
       "      <td>0.132394</td>\n",
       "      <td>0.146970</td>\n",
       "      <td>0.467648</td>\n",
       "      <td>...</td>\n",
       "      <td>0.221987</td>\n",
       "      <td>0.330519</td>\n",
       "      <td>0.570115</td>\n",
       "      <td>0.000000</td>\n",
       "      <td>0.673933</td>\n",
       "      <td>0.405953</td>\n",
       "      <td>0.730781</td>\n",
       "      <td>0.041951</td>\n",
       "      <td>4939000.0</td>\n",
       "      <td>%</td>\n",
       "    </tr>\n",
       "    <tr>\n",
       "      <th>168</th>\n",
       "      <td>South Africa</td>\n",
       "      <td>0.407648</td>\n",
       "      <td>0.043029</td>\n",
       "      <td>0.401799</td>\n",
       "      <td>0.000536</td>\n",
       "      <td>0.518958</td>\n",
       "      <td>0.340949</td>\n",
       "      <td>0.057329</td>\n",
       "      <td>0.068438</td>\n",
       "      <td>0.644651</td>\n",
       "      <td>...</td>\n",
       "      <td>0.157582</td>\n",
       "      <td>0.598211</td>\n",
       "      <td>0.572414</td>\n",
       "      <td>0.064799</td>\n",
       "      <td>0.108593</td>\n",
       "      <td>0.020332</td>\n",
       "      <td>0.066095</td>\n",
       "      <td>0.098336</td>\n",
       "      <td>58616000.0</td>\n",
       "      <td>%</td>\n",
       "    </tr>\n",
       "    <tr>\n",
       "      <th>169</th>\n",
       "      <td>Cyprus</td>\n",
       "      <td>0.224110</td>\n",
       "      <td>0.019706</td>\n",
       "      <td>0.573996</td>\n",
       "      <td>0.000893</td>\n",
       "      <td>0.138741</td>\n",
       "      <td>0.329346</td>\n",
       "      <td>0.203922</td>\n",
       "      <td>0.297073</td>\n",
       "      <td>0.634848</td>\n",
       "      <td>...</td>\n",
       "      <td>0.354171</td>\n",
       "      <td>0.425761</td>\n",
       "      <td>0.471264</td>\n",
       "      <td>0.054291</td>\n",
       "      <td>0.101649</td>\n",
       "      <td>0.017196</td>\n",
       "      <td>0.102660</td>\n",
       "      <td>0.027962</td>\n",
       "      <td>1250000.0</td>\n",
       "      <td>%</td>\n",
       "    </tr>\n",
       "  </tbody>\n",
       "</table>\n",
       "<p>170 rows × 32 columns</p>\n",
       "</div>"
      ],
      "text/plain": [
       "          Country  Alcoholic Beverages  Animal fats  Animal Products  \\\n",
       "0        Ethiopia             0.159675     0.019632         0.141426   \n",
       "1      Luxembourg             0.526056     0.400989         0.511572   \n",
       "2        Botswana             0.277914     0.250351         0.505400   \n",
       "3         Croatia             0.324294     0.168721         0.619225   \n",
       "4         Vanuatu             0.015770     0.057790         0.194267   \n",
       "..            ...                  ...          ...              ...   \n",
       "165  Saudi Arabia             0.000000     0.288361         0.447645   \n",
       "166      Slovakia             0.398592     1.000000         0.685757   \n",
       "167       Ireland             0.492518     0.642114         0.669338   \n",
       "168  South Africa             0.407648     0.043029         0.401799   \n",
       "169        Cyprus             0.224110     0.019706         0.573996   \n",
       "\n",
       "     Aquatic Products, Other  Cereals - Excluding Beer      Eggs  \\\n",
       "0                   0.000000                  0.707360  0.021231   \n",
       "1                   0.003037                  0.065720  0.456671   \n",
       "2                   0.000000                  0.304154  0.069553   \n",
       "3                   0.000298                  0.089808  0.222236   \n",
       "4                   0.000000                  0.113956  0.097841   \n",
       "..                       ...                       ...       ...   \n",
       "165                 0.000000                  0.489602  0.344716   \n",
       "166                 0.000000                  0.075794  0.547276   \n",
       "167                 0.000298                  0.109998  0.263979   \n",
       "168                 0.000536                  0.518958  0.340949   \n",
       "169                 0.000893                  0.138741  0.329346   \n",
       "\n",
       "     Fish, Seafood  Fruits - Excluding Wine      Meat  ...  Vegetables  \\\n",
       "0         0.003036                 0.027774  0.049936  ...    0.053566   \n",
       "1         0.181552                 0.205142  0.472345  ...    0.216706   \n",
       "2         0.036625                 0.117303  0.246737  ...    0.173447   \n",
       "3         0.101053                 0.147496  0.427246  ...    0.632333   \n",
       "4         0.243183                 0.276278  0.305938  ...    0.165948   \n",
       "..             ...                      ...       ...  ...         ...   \n",
       "165       0.114441                 0.342307  0.588290  ...    0.262730   \n",
       "166       0.076503                 0.154839  0.505964  ...    0.200792   \n",
       "167       0.132394                 0.146970  0.467648  ...    0.221987   \n",
       "168       0.057329                 0.068438  0.644651  ...    0.157582   \n",
       "169       0.203922                 0.297073  0.634848  ...    0.354171   \n",
       "\n",
       "     Vegetal Products   Obesity  Undernourished  Confirmed    Deaths  \\\n",
       "0            0.858439  0.034483        0.316988   0.002133  0.000288   \n",
       "1            0.487988  0.508046        0.000000   0.860508  0.211868   \n",
       "2            0.494562  0.321839        0.418564   0.002066  0.000523   \n",
       "3            0.380612  0.574713        0.000000   0.072968  0.030627   \n",
       "4            0.805737  0.491954        0.082312   0.000000  0.000000   \n",
       "..                ...       ...             ...        ...       ...   \n",
       "165          0.552413  0.756322        0.080560   0.393281  0.024848   \n",
       "166          0.314568  0.466667        0.015762   0.036769  0.006131   \n",
       "167          0.330519  0.570115        0.000000   0.673933  0.405953   \n",
       "168          0.598211  0.572414        0.064799   0.108593  0.020332   \n",
       "169          0.425761  0.471264        0.054291   0.101649  0.017196   \n",
       "\n",
       "     Recovered    Active   Population  Unit (all except Population)  \n",
       "0     0.000488  0.003700  112079000.0                             %  \n",
       "1     1.000000  0.012167     620000.0                             %  \n",
       "2     0.001602  0.001762    2283000.0                             %  \n",
       "3     0.083370  0.001054    4055000.0                             %  \n",
       "4     0.000000  0.000000     313000.0                             %  \n",
       "..         ...       ...          ...                           ...  \n",
       "165   0.338389  0.208590   34218000.0                             %  \n",
       "166   0.040497  0.005118    5454000.0                             %  \n",
       "167   0.730781  0.041951    4939000.0                             %  \n",
       "168   0.066095  0.098336   58616000.0                             %  \n",
       "169   0.102660  0.027962    1250000.0                             %  \n",
       "\n",
       "[170 rows x 32 columns]"
      ]
     },
     "execution_count": 78,
     "metadata": {},
     "output_type": "execute_result"
    }
   ],
   "source": [
    "# Randomise data\n",
    "scaled_df = scaled_df.sample(frac=1,random_state=1).reset_index(drop=True)\n",
    "scaled_df"
   ]
  },
  {
   "cell_type": "markdown",
   "metadata": {},
   "source": [
    "# A simple regression model for 1 variable."
   ]
  },
  {
   "cell_type": "code",
   "execution_count": 79,
   "metadata": {},
   "outputs": [],
   "source": [
    "# Chosse training input and output\n",
    "#XY = scaled_df[['Undernourished','Obesity' ]]\n",
    "#XY.plot.scatter(x = 'Undernourished', y ='Obesity')\n",
    "\n",
    "FEATURE_CLS = ['Obesity', 'Undernourished', 'Deaths','Recovered','Active','Confirmed']\n",
    "FEATURE = ['Obesity', 'Undernourished', 'Deaths','Recovered' ]\n",
    "\n",
    "ALL_OUTPUT = ['Alcoholic Beverages', 'Animal Products', 'Animal fats',\n",
    "       'Aquatic Products, Other', 'Cereals - Excluding Beer', 'Eggs',\n",
    "       'Fish, Seafood', 'Fruits - Excluding Wine', 'Meat',\n",
    "       'Milk - Excluding Butter', 'Offals', 'Oilcrops', 'Pulses', 'Spices',\n",
    "       'Starchy Roots', 'Stimulants', 'Sugar Crops', 'Sugar & Sweeteners',\n",
    "       'Treenuts', 'Vegetal Products', 'Vegetable Oils', 'Vegetables',\n",
    "       'Miscellaneous']\n",
    "GOOD_OUTPUT=['Animal Products', 'Animal fats','Vegetal Products','Vegetable Oils' ]"
   ]
  },
  {
   "cell_type": "code",
   "execution_count": 80,
   "metadata": {},
   "outputs": [],
   "source": [
    "# Devide trian and test set\n",
    "from sklearn.model_selection import train_test_split\n",
    "\n",
    "train_set, test_set = train_test_split(scaled_df, test_size=0.2, random_state=42)"
   ]
  },
  {
   "cell_type": "code",
   "execution_count": 81,
   "metadata": {},
   "outputs": [
    {
     "name": "stdout",
     "output_type": "stream",
     "text": [
      "[0.23920421662986885, -3.1786696492969977, 0.2175182510186099]\n"
     ]
    }
   ],
   "source": [
    "from sklearn.linear_model import LinearRegression\n",
    "from sklearn.model_selection import KFold \n",
    "X = pd.DataFrame(scaled_df[FEATURE_CLS])\n",
    "y = pd.DataFrame(scaled_df[GOOD_OUTPUT])\n",
    "model = LinearRegression()\n",
    "scores = []\n",
    "kfold = KFold(n_splits=3, shuffle=True, random_state=1)\n",
    "for i, (train, test) in enumerate(kfold.split(X, y)):\n",
    "    model.fit(X.iloc[train,:], y.iloc[train,:])\n",
    "    score = model.score(X.iloc[test,:], y.iloc[test,:])\n",
    "    scores.append(score)\n",
    "print(scores)"
   ]
  },
  {
   "cell_type": "code",
   "execution_count": 82,
   "metadata": {},
   "outputs": [],
   "source": [
    "from sklearn.linear_model import LinearRegression\n",
    "def Regression(features, response, data, method = LinearRegression()):\n",
    "    X = data[features]\n",
    "    Y = data[response]\n",
    "    return model.fit(X, Y)\n",
    "    \n",
    "    \n",
    "    \n",
    "def TestScore(features, response, data, model):\n",
    "    print('Output: ', response)\n",
    "    X = data[features]\n",
    "    Y = data[response]\n",
    "    return model.score(X,Y)\n",
    "    \n",
    "def PlotRegression(features, response, data, model):\n",
    "    import matplotlib.pyplot as plt\n",
    "    X = data[features]\n",
    "    Y = data[response]\n",
    "    y_pred = model.predict(X)\n",
    "    plt.scatter(X, Y, s=10)\n",
    "    plt.plot(X, y_pred, color='r')\n",
    "    plt.show()\n",
    "    "
   ]
  },
  {
   "cell_type": "code",
   "execution_count": 69,
   "metadata": {},
   "outputs": [],
   "source": [
    "from sklearn import linear_model\n",
    "model = Regression(FEATURE_CLS, GOOD_OUTPUT, train_set, method = linear_model.Lasso(alpha=0.1) )\n"
   ]
  },
  {
   "cell_type": "code",
   "execution_count": 70,
   "metadata": {},
   "outputs": [
    {
     "name": "stdout",
     "output_type": "stream",
     "text": [
      "Output:  ['Animal Products', 'Animal fats', 'Vegetal Products', 'Vegetable Oils']\n"
     ]
    },
    {
     "data": {
      "text/plain": [
       "-1.2192640813787465"
      ]
     },
     "execution_count": 70,
     "metadata": {},
     "output_type": "execute_result"
    }
   ],
   "source": [
    "TestScore(FEATURE_CLS, GOOD_OUTPUT,test_set, model)"
   ]
  },
  {
   "cell_type": "code",
   "execution_count": 71,
   "metadata": {},
   "outputs": [],
   "source": [
    "#PlotRegression(FEATURE_CLS, ALL_OUTPUT  ,tra in_set, model)"
   ]
  },
  {
   "cell_type": "code",
   "execution_count": null,
   "metadata": {},
   "outputs": [],
   "source": []
  },
  {
   "cell_type": "code",
   "execution_count": 72,
   "metadata": {},
   "outputs": [
    {
     "name": "stdout",
     "output_type": "stream",
     "text": [
      "Output:  Alcoholic Beverages\n",
      "R^2 :  0.04018912742983438\n",
      "Output:  Animal Products\n",
      "R^2 :  0.3600742882632403\n",
      "Output:  Animal fats\n",
      "R^2 :  0.10731868235569253\n",
      "Output:  Aquatic Products, Other\n",
      "R^2 :  0.0\n",
      "Output:  Cereals - Excluding Beer\n",
      "R^2 :  0.2678882141990865\n",
      "Output:  Eggs\n",
      "R^2 :  0.3960160615878644\n",
      "Output:  Fish, Seafood\n",
      "R^2 :  -0.43918977538175485\n",
      "Output:  Fruits - Excluding Wine\n",
      "R^2 :  -0.03270134164311367\n",
      "Output:  Meat\n",
      "R^2 :  0.12917076235040148\n",
      "Output:  Milk - Excluding Butter\n",
      "R^2 :  0.19390522092302387\n",
      "Output:  Offals\n",
      "R^2 :  -0.07028499984443726\n",
      "Output:  Oilcrops\n",
      "R^2 :  -0.142487134752193\n",
      "Output:  Pulses\n",
      "R^2 :  0.2369443859074617\n",
      "Output:  Spices\n",
      "R^2 :  0.010105510359687986\n",
      "Output:  Starchy Roots\n",
      "R^2 :  -0.07458684682663241\n",
      "Output:  Stimulants\n",
      "R^2 :  0.0451624453823013\n",
      "Output:  Sugar Crops\n",
      "R^2 :  -0.014693502170847195\n",
      "Output:  Sugar & Sweeteners\n",
      "R^2 :  0.33025422970332474\n",
      "Output:  Treenuts\n",
      "R^2 :  0.18856285566588726\n",
      "Output:  Vegetal Products\n",
      "R^2 :  0.3594251126829855\n",
      "Output:  Vegetable Oils\n",
      "R^2 :  0.016342889294290286\n",
      "Output:  Vegetables\n",
      "R^2 :  0.18659009145830419\n",
      "Output:  Miscellaneous\n",
      "R^2 :  -0.32342268677793884\n"
     ]
    }
   ],
   "source": [
    "for cls in ALL_OUTPUT:\n",
    "    model = Regression(FEATURE, cls, train_set, method = linear_model.Lasso(alpha=0.5) )\n",
    "    print('R^2 : ', TestScore(FEATURE, cls,test_set, model))\n",
    "    #PlotRegression(FEATURE, cls ,test_set, model)"
   ]
  },
  {
   "cell_type": "code",
   "execution_count": null,
   "metadata": {},
   "outputs": [],
   "source": [
    "\n",
    "    "
   ]
  },
  {
   "cell_type": "code",
   "execution_count": 52,
   "metadata": {},
   "outputs": [
    {
     "name": "stdout",
     "output_type": "stream",
     "text": [
      "R^2 Score of  Alcoholic Beverages  :  0.0\n",
      "R^2 Score of  Animal Products  :  0.3618994794472833\n",
      "R^2 Score of  Animal fats  :  0.15282344256637992\n",
      "R^2 Score of  Aquatic Products, Other  :  -2.6158514425851727\n",
      "R^2 Score of  Cereals - Excluding Beer  :  0.2702111267356996\n",
      "R^2 Score of  Eggs  :  -0.4959695393719854\n",
      "R^2 Score of  Fish, Seafood  :  -9.368515187125844\n",
      "R^2 Score of  Fruits - Excluding Wine  :  -6.061182045502928\n",
      "R^2 Score of  Meat  :  -0.05971485359983464\n",
      "R^2 Score of  Milk - Excluding Butter  :  0.08699683073614561\n",
      "R^2 Score of  Offals  :  0.10871560714934458\n",
      "R^2 Score of  Oilcrops  :  0.2549401638390246\n",
      "R^2 Score of  Pulses  :  0.024069948916552675\n",
      "R^2 Score of  Spices  :  -0.4549553992339703\n",
      "R^2 Score of  Starchy Roots  :  -2.1979221395054775\n",
      "R^2 Score of  Stimulants  :  -0.4212424843789473\n",
      "R^2 Score of  Sugar Crops  :  -0.1665816576133281\n",
      "R^2 Score of  Sugar & Sweeteners  :  -0.18077105327224263\n",
      "R^2 Score of  Treenuts  :  -0.17398866052159656\n",
      "R^2 Score of  Vegetal Products  :  0.36180761986591603\n",
      "R^2 Score of  Vegetable Oils  :  -0.23823898238777108\n",
      "R^2 Score of  Vegetables  :  -0.018862641433306848\n",
      "R^2 Score of  Miscellaneous  :  -0.7768398411202029\n"
     ]
    }
   ],
   "source": [
    "from sklearn.preprocessing import PolynomialFeatures\n",
    "from sklearn.linear_model import LinearRegression\n",
    "\n",
    "from sklearn import linear_model\n",
    "for cls in ALL_OUTPUT: \n",
    "    poly_transformer = PolynomialFeatures(2) \n",
    "    X_train_transformed = poly_transformer.fit_transform(train_set[FEATURE])\n",
    "    X_test_transformed = poly_transformer.fit_transform(test_set[FEATURE])\n",
    "    #print(X_train_transformed)\n",
    "    model = LinearRegression()\n",
    "    model.fit(X_train_transformed, train_set[cls])\n",
    "    score = model.score(X_test_transformed, test_set[cls])\n",
    "    print('R^2 Score of ' , cls ,' : ' , score)\n",
    "    \n",
    "    \n",
    "    \n",
    "    \n",
    "    \n",
    "    "
   ]
  },
  {
   "cell_type": "code",
   "execution_count": 53,
   "metadata": {},
   "outputs": [
    {
     "name": "stdout",
     "output_type": "stream",
     "text": [
      "R^2 Score of  Alcoholic Beverages  :  0.0\n",
      "R^2 Score of  Animal Products  :  0.30036421141742264\n",
      "R^2 Score of  Animal fats  :  0.1932732743537816\n",
      "R^2 Score of  Aquatic Products, Other  :  -0.07984503773021245\n",
      "R^2 Score of  Cereals - Excluding Beer  :  0.1681518497399439\n",
      "R^2 Score of  Eggs  :  0.3011974893776298\n",
      "R^2 Score of  Fish, Seafood  :  -1.0702861527262693\n",
      "R^2 Score of  Fruits - Excluding Wine  :  -62.580989037454316\n",
      "R^2 Score of  Meat  :  -0.4371033166421281\n",
      "R^2 Score of  Milk - Excluding Butter  :  -0.15631928461139943\n",
      "R^2 Score of  Offals  :  0.05387844869037717\n",
      "R^2 Score of  Oilcrops  :  -0.02617665913317402\n",
      "R^2 Score of  Pulses  :  0.4990010673083367\n",
      "R^2 Score of  Spices  :  -2.4913652037013003\n",
      "R^2 Score of  Starchy Roots  :  -2.766793107982397\n",
      "R^2 Score of  Stimulants  :  -0.17256031736676158\n",
      "R^2 Score of  Sugar Crops  :  -0.9497094644853414\n",
      "R^2 Score of  Sugar & Sweeteners  :  -0.20375508507049345\n",
      "R^2 Score of  Treenuts  :  -0.4677714403467279\n",
      "R^2 Score of  Vegetal Products  :  0.30045297877008914\n",
      "R^2 Score of  Vegetable Oils  :  0.11046079645010165\n",
      "R^2 Score of  Vegetables  :  -0.3822618583050872\n",
      "R^2 Score of  Miscellaneous  :  -1.3316683076473819\n"
     ]
    }
   ],
   "source": [
    "from sklearn.tree import DecisionTreeRegressor\n",
    "model = DecisionTreeRegressor(max_depth=2)\n",
    "for cls in ALL_OUTPUT: \n",
    "    poly_transformer = PolynomialFeatures(1) \n",
    "    X_train_transformed = poly_transformer.fit_transform(train_set[FEATURE_CLS])\n",
    "    X_test_transformed = poly_transformer.fit_transform(test_set[FEATURE_CLS])\n",
    "    #print(X_train_transformed)\n",
    "    model.fit(X_train_transformed, train_set[cls])\n",
    "    score = model.score(X_test_transformed, test_set[cls])\n",
    "    print('R^2 Score of ' , cls ,' : ' , score)\n",
    "    \n",
    "    \n",
    "    "
   ]
  },
  {
   "cell_type": "code",
   "execution_count": 54,
   "metadata": {},
   "outputs": [
    {
     "name": "stdout",
     "output_type": "stream",
     "text": [
      "R^2 Score of  Alcoholic Beverages  :  0.0\n",
      "R^2 Score of  Animal Products  :  0.2855177450827654\n",
      "R^2 Score of  Animal fats  :  0.18079125750448544\n",
      "R^2 Score of  Aquatic Products, Other  :  -16.87792544725086\n",
      "R^2 Score of  Cereals - Excluding Beer  :  0.21425182482078153\n",
      "R^2 Score of  Eggs  :  0.22836452348573244\n",
      "R^2 Score of  Fish, Seafood  :  -1.7480902068329836\n",
      "R^2 Score of  Fruits - Excluding Wine  :  -5.757187377091061\n",
      "R^2 Score of  Meat  :  -0.09758583930206921\n",
      "R^2 Score of  Milk - Excluding Butter  :  0.056540212647576804\n",
      "R^2 Score of  Offals  :  -0.027392355838389726\n",
      "R^2 Score of  Oilcrops  :  0.1655510915567675\n",
      "R^2 Score of  Pulses  :  0.13707064158622673\n",
      "R^2 Score of  Spices  :  -0.028554294315449313\n",
      "R^2 Score of  Starchy Roots  :  -0.7512076167401183\n",
      "R^2 Score of  Stimulants  :  -0.07805645700747665\n",
      "R^2 Score of  Sugar Crops  :  -1.6622859365542864\n",
      "R^2 Score of  Sugar & Sweeteners  :  -2.5660770494027556\n",
      "R^2 Score of  Treenuts  :  0.08226167395737927\n",
      "R^2 Score of  Vegetal Products  :  0.2854752724877281\n",
      "R^2 Score of  Vegetable Oils  :  -0.15639994023078274\n",
      "R^2 Score of  Vegetables  :  -0.005854947495760765\n",
      "R^2 Score of  Miscellaneous  :  0.18613480017070394\n"
     ]
    }
   ],
   "source": [
    "from sklearn.svm import SVR\n",
    "\n",
    "model =  SVR(C=1.0, epsilon=0.1)\n",
    "for cls in ALL_OUTPUT: \n",
    "    poly_transformer = PolynomialFeatures(1) \n",
    "    X_train_transformed = poly_transformer.fit_transform(train_set[FEATURE_CLS])\n",
    "    X_test_transformed = poly_transformer.fit_transform(test_set[FEATURE_CLS])\n",
    "    #print(X_train_transformed)\n",
    "    model.fit(X_train_transformed, train_set[cls])\n",
    "    score = model.score(X_test_transformed, test_set[cls])\n",
    "    print('R^2 Score of ' , cls ,' : ' , score)\n",
    "    "
   ]
  },
  {
   "cell_type": "code",
   "execution_count": 55,
   "metadata": {},
   "outputs": [
    {
     "name": "stdout",
     "output_type": "stream",
     "text": [
      "R^2 Score of  Alcoholic Beverages  :  0.0\n",
      "R^2 Score of  Animal Products  :  0.31464280969218617\n",
      "R^2 Score of  Animal fats  :  0.1700431642920085\n",
      "R^2 Score of  Aquatic Products, Other  :  -0.5374682609310129\n",
      "R^2 Score of  Cereals - Excluding Beer  :  0.1917818215250091\n",
      "R^2 Score of  Eggs  :  0.3368825920793629\n",
      "R^2 Score of  Fish, Seafood  :  -1.0712734105381139\n",
      "R^2 Score of  Fruits - Excluding Wine  :  -13.528435093580809\n",
      "R^2 Score of  Meat  :  -0.0038406361256675403\n",
      "R^2 Score of  Milk - Excluding Butter  :  0.12438986572486632\n",
      "R^2 Score of  Offals  :  0.07409033466764248\n",
      "R^2 Score of  Oilcrops  :  -0.08593280853079133\n",
      "R^2 Score of  Pulses  :  0.48170590412280323\n",
      "R^2 Score of  Spices  :  -0.6744360379769119\n",
      "R^2 Score of  Starchy Roots  :  -0.366626998988405\n",
      "R^2 Score of  Stimulants  :  -0.09217085173739537\n",
      "R^2 Score of  Sugar Crops  :  -1.3185735911431404\n",
      "R^2 Score of  Sugar & Sweeteners  :  -0.0943229210371408\n",
      "R^2 Score of  Treenuts  :  0.08344603175005738\n",
      "R^2 Score of  Vegetal Products  :  0.3129709233438981\n",
      "R^2 Score of  Vegetable Oils  :  0.0932821263039908\n",
      "R^2 Score of  Vegetables  :  -0.08808255599594239\n",
      "R^2 Score of  Miscellaneous  :  -1.0844388982981399\n"
     ]
    }
   ],
   "source": [
    "from sklearn.ensemble import RandomForestRegressor\n",
    "\n",
    "model = RandomForestRegressor(max_depth=2, random_state=0)\n",
    "for cls in ALL_OUTPUT: \n",
    "    poly_transformer = PolynomialFeatures(1) \n",
    "    X_train_transformed = poly_transformer.fit_transform(train_set[FEATURE])\n",
    "    X_test_transformed = poly_transformer.fit_transform(test_set[FEATURE])\n",
    "    #print(X_train_transformed)\n",
    "    model.fit(X_train_transformed, train_set[cls])\n",
    "    score = model.score(X_test_transformed, test_set[cls])\n",
    "    print('R^2 Score of ' , cls ,' : ' , score)\n",
    "    "
   ]
  },
  {
   "cell_type": "code",
   "execution_count": null,
   "metadata": {},
   "outputs": [],
   "source": []
  },
  {
   "cell_type": "code",
   "execution_count": 56,
   "metadata": {},
   "outputs": [
    {
     "name": "stdout",
     "output_type": "stream",
     "text": [
      "R^2 Score of  Alcoholic Beverages  :  0.0\n",
      "R^2 Score of  Animal Products  :  0.2965636992793248\n",
      "R^2 Score of  Animal fats  :  0.07549019278304236\n",
      "R^2 Score of  Aquatic Products, Other  :  -10.861435935059411\n",
      "R^2 Score of  Cereals - Excluding Beer  :  0.21327380344366254\n",
      "R^2 Score of  Eggs  :  0.2276205906352058\n",
      "R^2 Score of  Fish, Seafood  :  -1.5363207965875056\n",
      "R^2 Score of  Fruits - Excluding Wine  :  -5.04082809383346\n",
      "R^2 Score of  Meat  :  -0.027621912668410742\n",
      "R^2 Score of  Milk - Excluding Butter  :  0.03917636267540214\n",
      "R^2 Score of  Offals  :  0.05493357494977813\n",
      "R^2 Score of  Oilcrops  :  0.1540615195155539\n",
      "R^2 Score of  Pulses  :  0.1992504428538916\n",
      "R^2 Score of  Spices  :  -0.03129802044697905\n",
      "R^2 Score of  Starchy Roots  :  -0.5697785237898378\n",
      "R^2 Score of  Stimulants  :  0.06134976443392626\n",
      "R^2 Score of  Sugar Crops  :  -1.6954485630657028\n",
      "R^2 Score of  Sugar & Sweeteners  :  -2.262444450251094\n",
      "R^2 Score of  Treenuts  :  0.052835472929267824\n",
      "R^2 Score of  Vegetal Products  :  0.29635714435296623\n",
      "R^2 Score of  Vegetable Oils  :  -0.0760695587736373\n",
      "R^2 Score of  Vegetables  :  -0.0325046171487553\n",
      "R^2 Score of  Miscellaneous  :  -0.025286419406188587\n"
     ]
    }
   ],
   "source": [
    "from sklearn.model_selection import GridSearchCV\n",
    "svr = SVR()\n",
    "param_grid = [\n",
    "    {'C': [1, 10, 100, 1000], 'kernel': ['linear']},\n",
    "    {'C': [1, 10, 100, 1000], 'gamma': [0.001, 0.0001], 'kernel': ['rbf']},\n",
    "    {'C': [1, 10, 100, 1000, 10000], 'gamma': [0.001, 0.0002,0.0003,0.0004,0.005,0.006 ], 'kernel': ['rbf','linear']},\n",
    "    \n",
    " ]\n",
    "clf = GridSearchCV(svr, param_grid,refit=True)\n",
    "for cls in ALL_OUTPUT: \n",
    "    X_train_transformed = train_set[FEATURE_CLS]\n",
    "    X_test_transformed = test_set[FEATURE_CLS]\n",
    "    clf.fit(X_train_transformed, train_set[cls])\n",
    "    score = clf.score(X_test_transformed, test_set[cls])\n",
    "    print('R^2 Score of ' , cls ,' : ' , score)\n",
    "    \n",
    "\n",
    "\n"
   ]
  },
  {
   "cell_type": "code",
   "execution_count": 57,
   "metadata": {},
   "outputs": [
    {
     "name": "stdout",
     "output_type": "stream",
     "text": [
      "Parameters currently in use:\n",
      "\n",
      "{'bootstrap': True, 'ccp_alpha': 0.0, 'criterion': 'mse', 'max_depth': None, 'max_features': 'auto', 'max_leaf_nodes': None, 'max_samples': None, 'min_impurity_decrease': 0.0, 'min_impurity_split': None, 'min_samples_leaf': 1, 'min_samples_split': 2, 'min_weight_fraction_leaf': 0.0, 'n_estimators': 100, 'n_jobs': None, 'oob_score': False, 'random_state': 42, 'verbose': 0, 'warm_start': False}\n"
     ]
    }
   ],
   "source": [
    "from sklearn.ensemble import RandomForestRegressor\n",
    "rf = RandomForestRegressor(random_state = 42)\n",
    "from pprint import pprint\n",
    "# Look at parameters used by our current forest\n",
    "print('Parameters currently in use:\\n')\n",
    "print(rf.get_params())\n",
    "#Parameters currently in use:\n"
   ]
  },
  {
   "cell_type": "code",
   "execution_count": 83,
   "metadata": {},
   "outputs": [
    {
     "name": "stdout",
     "output_type": "stream",
     "text": [
      "{'bootstrap': [True, False],\n",
      " 'max_depth': [10, 20, 30, 40, 50, 60, 70, 80, 90, 100, 110, None],\n",
      " 'max_features': ['auto', 'sqrt'],\n",
      " 'min_samples_leaf': [1, 2, 4],\n",
      " 'min_samples_split': [2, 5, 10],\n",
      " 'n_estimators': [200, 400, 600, 800, 1000, 1200, 1400, 1600, 1800, 2000]}\n"
     ]
    }
   ],
   "source": [
    "from sklearn.model_selection import RandomizedSearchCV\n",
    "# Number of trees in random forest\n",
    "n_estimators = [int(x) for x in np.linspace(start = 200, stop = 2000, num = 10)]\n",
    "# Number of features to consider at every split\n",
    "max_features = ['auto', 'sqrt']\n",
    "# Maximum number of levels in tree\n",
    "max_depth = [int(x) for x in np.linspace(10, 110, num = 11)]\n",
    "max_depth.append(None)\n",
    "# Minimum number of samples required to split a node\n",
    "min_samples_split = [2, 5, 10]\n",
    "# Minimum number of samples required at each leaf node\n",
    "min_samples_leaf = [1, 2, 4]\n",
    "# Method of selecting samples for training each tree\n",
    "bootstrap = [True, False]\n",
    "# Create the random grid\n",
    "random_grid = {'n_estimators': n_estimators,\n",
    "               'max_features': max_features,\n",
    "               'max_depth': max_depth,\n",
    "               'min_samples_split': min_samples_split,\n",
    "               'min_samples_leaf': min_samples_leaf,\n",
    "               'bootstrap': bootstrap}\n",
    "pprint(random_grid)"
   ]
  },
  {
   "cell_type": "code",
   "execution_count": 84,
   "metadata": {},
   "outputs": [
    {
     "name": "stdout",
     "output_type": "stream",
     "text": [
      "Fitting 3 folds for each of 10 candidates, totalling 30 fits\n"
     ]
    },
    {
     "name": "stderr",
     "output_type": "stream",
     "text": [
      "[Parallel(n_jobs=-1)]: Using backend LokyBackend with 8 concurrent workers.\n",
      "[Parallel(n_jobs=-1)]: Done  30 out of  30 | elapsed:    7.1s finished\n"
     ]
    },
    {
     "name": "stdout",
     "output_type": "stream",
     "text": [
      "R^2 Score of  Alcoholic Beverages  :  0.04603560718727273\n",
      "Fitting 3 folds for each of 10 candidates, totalling 30 fits\n"
     ]
    },
    {
     "name": "stderr",
     "output_type": "stream",
     "text": [
      "[Parallel(n_jobs=-1)]: Using backend LokyBackend with 8 concurrent workers.\n",
      "[Parallel(n_jobs=-1)]: Done  30 out of  30 | elapsed:    7.6s finished\n"
     ]
    },
    {
     "name": "stdout",
     "output_type": "stream",
     "text": [
      "R^2 Score of  Animal Products  :  0.3721235286154221\n",
      "Fitting 3 folds for each of 10 candidates, totalling 30 fits\n"
     ]
    },
    {
     "name": "stderr",
     "output_type": "stream",
     "text": [
      "[Parallel(n_jobs=-1)]: Using backend LokyBackend with 8 concurrent workers.\n",
      "[Parallel(n_jobs=-1)]: Done  30 out of  30 | elapsed:    8.0s finished\n"
     ]
    },
    {
     "name": "stdout",
     "output_type": "stream",
     "text": [
      "R^2 Score of  Animal fats  :  0.1863745026893232\n",
      "Fitting 3 folds for each of 10 candidates, totalling 30 fits\n"
     ]
    },
    {
     "name": "stderr",
     "output_type": "stream",
     "text": [
      "[Parallel(n_jobs=-1)]: Using backend LokyBackend with 8 concurrent workers.\n",
      "[Parallel(n_jobs=-1)]: Done  30 out of  30 | elapsed:    8.0s finished\n"
     ]
    },
    {
     "name": "stdout",
     "output_type": "stream",
     "text": [
      "R^2 Score of  Aquatic Products, Other  :  -30.363604178993324\n",
      "Fitting 3 folds for each of 10 candidates, totalling 30 fits\n"
     ]
    },
    {
     "name": "stderr",
     "output_type": "stream",
     "text": [
      "[Parallel(n_jobs=-1)]: Using backend LokyBackend with 8 concurrent workers.\n",
      "[Parallel(n_jobs=-1)]: Done  30 out of  30 | elapsed:    8.1s finished\n"
     ]
    },
    {
     "name": "stdout",
     "output_type": "stream",
     "text": [
      "R^2 Score of  Cereals - Excluding Beer  :  0.2740976316999276\n",
      "Fitting 3 folds for each of 10 candidates, totalling 30 fits\n"
     ]
    },
    {
     "name": "stderr",
     "output_type": "stream",
     "text": [
      "[Parallel(n_jobs=-1)]: Using backend LokyBackend with 8 concurrent workers.\n",
      "[Parallel(n_jobs=-1)]: Done  30 out of  30 | elapsed:    8.2s finished\n"
     ]
    },
    {
     "name": "stdout",
     "output_type": "stream",
     "text": [
      "R^2 Score of  Eggs  :  0.13270045270800912\n",
      "Fitting 3 folds for each of 10 candidates, totalling 30 fits\n"
     ]
    },
    {
     "name": "stderr",
     "output_type": "stream",
     "text": [
      "[Parallel(n_jobs=-1)]: Using backend LokyBackend with 8 concurrent workers.\n",
      "[Parallel(n_jobs=-1)]: Done  30 out of  30 | elapsed:    8.3s finished\n"
     ]
    },
    {
     "name": "stdout",
     "output_type": "stream",
     "text": [
      "R^2 Score of  Fish, Seafood  :  -0.22160888828511394\n",
      "Fitting 3 folds for each of 10 candidates, totalling 30 fits\n"
     ]
    },
    {
     "name": "stderr",
     "output_type": "stream",
     "text": [
      "[Parallel(n_jobs=-1)]: Using backend LokyBackend with 8 concurrent workers.\n",
      "[Parallel(n_jobs=-1)]: Done  30 out of  30 | elapsed:    8.0s finished\n"
     ]
    },
    {
     "name": "stdout",
     "output_type": "stream",
     "text": [
      "R^2 Score of  Fruits - Excluding Wine  :  -0.14374351835479393\n",
      "Fitting 3 folds for each of 10 candidates, totalling 30 fits\n"
     ]
    },
    {
     "name": "stderr",
     "output_type": "stream",
     "text": [
      "[Parallel(n_jobs=-1)]: Using backend LokyBackend with 8 concurrent workers.\n",
      "[Parallel(n_jobs=-1)]: Done  30 out of  30 | elapsed:    8.2s finished\n"
     ]
    },
    {
     "name": "stdout",
     "output_type": "stream",
     "text": [
      "R^2 Score of  Meat  :  0.07430929640678141\n",
      "Fitting 3 folds for each of 10 candidates, totalling 30 fits\n"
     ]
    },
    {
     "name": "stderr",
     "output_type": "stream",
     "text": [
      "[Parallel(n_jobs=-1)]: Using backend LokyBackend with 8 concurrent workers.\n",
      "[Parallel(n_jobs=-1)]: Done  30 out of  30 | elapsed:    7.8s finished\n"
     ]
    },
    {
     "name": "stdout",
     "output_type": "stream",
     "text": [
      "R^2 Score of  Milk - Excluding Butter  :  0.17372713914085192\n",
      "Fitting 3 folds for each of 10 candidates, totalling 30 fits\n"
     ]
    },
    {
     "name": "stderr",
     "output_type": "stream",
     "text": [
      "[Parallel(n_jobs=-1)]: Using backend LokyBackend with 8 concurrent workers.\n",
      "[Parallel(n_jobs=-1)]: Done  30 out of  30 | elapsed:    7.9s finished\n"
     ]
    },
    {
     "name": "stdout",
     "output_type": "stream",
     "text": [
      "R^2 Score of  Offals  :  -0.007483064978122345\n",
      "Fitting 3 folds for each of 10 candidates, totalling 30 fits\n"
     ]
    },
    {
     "name": "stderr",
     "output_type": "stream",
     "text": [
      "[Parallel(n_jobs=-1)]: Using backend LokyBackend with 8 concurrent workers.\n",
      "[Parallel(n_jobs=-1)]: Done  30 out of  30 | elapsed:    8.0s finished\n"
     ]
    },
    {
     "name": "stdout",
     "output_type": "stream",
     "text": [
      "R^2 Score of  Oilcrops  :  -8.089946781085542\n",
      "Fitting 3 folds for each of 10 candidates, totalling 30 fits\n"
     ]
    },
    {
     "name": "stderr",
     "output_type": "stream",
     "text": [
      "[Parallel(n_jobs=-1)]: Using backend LokyBackend with 8 concurrent workers.\n",
      "[Parallel(n_jobs=-1)]: Done  30 out of  30 | elapsed:    8.4s finished\n"
     ]
    },
    {
     "name": "stdout",
     "output_type": "stream",
     "text": [
      "R^2 Score of  Pulses  :  0.28173056176454114\n",
      "Fitting 3 folds for each of 10 candidates, totalling 30 fits\n"
     ]
    },
    {
     "name": "stderr",
     "output_type": "stream",
     "text": [
      "[Parallel(n_jobs=-1)]: Using backend LokyBackend with 8 concurrent workers.\n",
      "[Parallel(n_jobs=-1)]: Done  30 out of  30 | elapsed:    8.1s finished\n"
     ]
    },
    {
     "name": "stdout",
     "output_type": "stream",
     "text": [
      "R^2 Score of  Spices  :  -0.47173228618077556\n",
      "Fitting 3 folds for each of 10 candidates, totalling 30 fits\n"
     ]
    },
    {
     "name": "stderr",
     "output_type": "stream",
     "text": [
      "[Parallel(n_jobs=-1)]: Using backend LokyBackend with 8 concurrent workers.\n",
      "[Parallel(n_jobs=-1)]: Done  30 out of  30 | elapsed:    8.0s finished\n"
     ]
    },
    {
     "name": "stdout",
     "output_type": "stream",
     "text": [
      "R^2 Score of  Starchy Roots  :  -0.2597527099529269\n",
      "Fitting 3 folds for each of 10 candidates, totalling 30 fits\n"
     ]
    },
    {
     "name": "stderr",
     "output_type": "stream",
     "text": [
      "[Parallel(n_jobs=-1)]: Using backend LokyBackend with 8 concurrent workers.\n",
      "[Parallel(n_jobs=-1)]: Done  30 out of  30 | elapsed:    8.0s finished\n"
     ]
    },
    {
     "name": "stdout",
     "output_type": "stream",
     "text": [
      "R^2 Score of  Stimulants  :  -0.19946963969645326\n",
      "Fitting 3 folds for each of 10 candidates, totalling 30 fits\n"
     ]
    },
    {
     "name": "stderr",
     "output_type": "stream",
     "text": [
      "[Parallel(n_jobs=-1)]: Using backend LokyBackend with 8 concurrent workers.\n",
      "[Parallel(n_jobs=-1)]: Done  30 out of  30 | elapsed:    7.8s finished\n"
     ]
    },
    {
     "name": "stdout",
     "output_type": "stream",
     "text": [
      "R^2 Score of  Sugar Crops  :  -0.1500320075460564\n",
      "Fitting 3 folds for each of 10 candidates, totalling 30 fits\n"
     ]
    },
    {
     "name": "stderr",
     "output_type": "stream",
     "text": [
      "[Parallel(n_jobs=-1)]: Using backend LokyBackend with 8 concurrent workers.\n",
      "[Parallel(n_jobs=-1)]: Done  30 out of  30 | elapsed:    8.5s finished\n"
     ]
    },
    {
     "name": "stdout",
     "output_type": "stream",
     "text": [
      "R^2 Score of  Sugar & Sweeteners  :  0.01478900599021915\n",
      "Fitting 3 folds for each of 10 candidates, totalling 30 fits\n"
     ]
    },
    {
     "name": "stderr",
     "output_type": "stream",
     "text": [
      "[Parallel(n_jobs=-1)]: Using backend LokyBackend with 8 concurrent workers.\n",
      "[Parallel(n_jobs=-1)]: Done  30 out of  30 | elapsed:    7.9s finished\n"
     ]
    },
    {
     "name": "stdout",
     "output_type": "stream",
     "text": [
      "R^2 Score of  Treenuts  :  -0.01915405663117009\n",
      "Fitting 3 folds for each of 10 candidates, totalling 30 fits\n"
     ]
    },
    {
     "name": "stderr",
     "output_type": "stream",
     "text": [
      "[Parallel(n_jobs=-1)]: Using backend LokyBackend with 8 concurrent workers.\n",
      "[Parallel(n_jobs=-1)]: Done  30 out of  30 | elapsed:    8.0s finished\n"
     ]
    },
    {
     "name": "stdout",
     "output_type": "stream",
     "text": [
      "R^2 Score of  Vegetal Products  :  0.3790947010639949\n",
      "Fitting 3 folds for each of 10 candidates, totalling 30 fits\n"
     ]
    },
    {
     "name": "stderr",
     "output_type": "stream",
     "text": [
      "[Parallel(n_jobs=-1)]: Using backend LokyBackend with 8 concurrent workers.\n",
      "[Parallel(n_jobs=-1)]: Done  30 out of  30 | elapsed:    8.0s finished\n"
     ]
    },
    {
     "name": "stdout",
     "output_type": "stream",
     "text": [
      "R^2 Score of  Vegetable Oils  :  0.10589012217188665\n",
      "Fitting 3 folds for each of 10 candidates, totalling 30 fits\n"
     ]
    },
    {
     "name": "stderr",
     "output_type": "stream",
     "text": [
      "[Parallel(n_jobs=-1)]: Using backend LokyBackend with 8 concurrent workers.\n",
      "[Parallel(n_jobs=-1)]: Done  30 out of  30 | elapsed:    7.9s finished\n"
     ]
    },
    {
     "name": "stdout",
     "output_type": "stream",
     "text": [
      "R^2 Score of  Vegetables  :  0.01639036748511291\n",
      "Fitting 3 folds for each of 10 candidates, totalling 30 fits\n"
     ]
    },
    {
     "name": "stderr",
     "output_type": "stream",
     "text": [
      "[Parallel(n_jobs=-1)]: Using backend LokyBackend with 8 concurrent workers.\n",
      "[Parallel(n_jobs=-1)]: Done  30 out of  30 | elapsed:    8.0s finished\n"
     ]
    },
    {
     "name": "stdout",
     "output_type": "stream",
     "text": [
      "R^2 Score of  Miscellaneous  :  -0.6695113307835234\n"
     ]
    }
   ],
   "source": [
    "\n",
    "\n",
    "# Use the random grid to search for best hyperparameters\n",
    "# First create the base model to tune\n",
    "rf = RandomForestRegressor()\n",
    "# Random search of parameters, using 3 fold cross validation, \n",
    "# search across 100 different combinations, and use all available cores\n",
    "rf_random = RandomizedSearchCV(estimator = rf, param_distributions = random_grid, n_iter = 10, cv = 3, verbose=2, random_state=42, n_jobs = -1, refit=True)\n",
    "# Fit the random search model\n",
    "\n",
    "for cls in ALL_OUTPUT: \n",
    "    \n",
    "    X_train_transformed = train_set[FEATURE_CLS]\n",
    "    X_test_transformed = test_set[FEATURE_CLS]\n",
    "    #print(X_train_transformed)\n",
    "    rf_random.fit(X_train_transformed, train_set[cls])\n",
    "    score = rf_random.score(X_test_transformed, test_set[cls])\n",
    "    print('R^2 Score of ' , cls ,' : ' , score)\n",
    "\n"
   ]
  },
  {
   "cell_type": "code",
   "execution_count": null,
   "metadata": {},
   "outputs": [],
   "source": []
  }
 ],
 "metadata": {
  "kernelspec": {
   "display_name": "Python 3",
   "language": "python",
   "name": "python3"
  },
  "language_info": {
   "codemirror_mode": {
    "name": "ipython",
    "version": 3
   },
   "file_extension": ".py",
   "mimetype": "text/x-python",
   "name": "python",
   "nbconvert_exporter": "python",
   "pygments_lexer": "ipython3",
   "version": "3.7.3"
  }
 },
 "nbformat": 4,
 "nbformat_minor": 4
}
