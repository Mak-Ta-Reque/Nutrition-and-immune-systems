{
 "cells": [
  {
   "cell_type": "code",
   "execution_count": null,
   "metadata": {
    "pycharm": {
     "is_executing": false
    }
   },
   "outputs": [],
   "source": [
    "import pandas as pd\n",
    "import numpy as np\n",
    "import os\n",
    "import matplotlib.pyplot as plt\n",
    "import os"
   ]
  },
  {
   "cell_type": "code",
   "execution_count": null,
   "metadata": {},
   "outputs": [],
   "source": [
    "from keras.models import Sequential\n",
    "from keras.layers import Dense\n",
    "class NN_model():\n",
    "    def __init__(self, n_features=23, n_output=4):\n",
    "\n",
    "        model = Sequential()\n",
    "        model.add(Dense(20, input_dim=n_features, kernel_initializer='random_uniform', activation='relu'))\n",
    "        model.add(Dense(n_output, input_dim=20, kernel_initializer='random_uniform', activation='softmax'))\n",
    "    def fit(self, X, y):\n",
    "        return model.fit(X, y)\n",
    "        "
   ]
  },
  {
   "cell_type": "code",
   "execution_count": null,
   "metadata": {},
   "outputs": [],
   "source": [
    "from sklearn.linear_model import LinearRegression\n",
    "from keras import backend as K\n",
    "\n",
    "def Regression(features, response, data, val):\n",
    "    def r2_keras(y_true, y_pred):\n",
    "        SS_res =  K.sum(K.square(y_true - y_pred)) \n",
    "        SS_tot = K.sum(K.square(y_true - K.mean(y_true))) \n",
    "        return ( 1 - SS_res/(SS_tot + K.epsilon()) )\n",
    "    X = data[features]\n",
    "    Y = data[response]\n",
    "    X_val = val[features]\n",
    "    Y_val = val[response]\n",
    "    print (X.shape, Y.shape)\n",
    "    model = Sequential()\n",
    "    n_features = len(features)\n",
    "    n_output = len(response)\n",
    "    print (n_output)\n",
    "    model.add(Dense(20, input_dim=n_features, kernel_initializer='random_uniform', activation='relu'))\n",
    "    model.add(Dense(n_output, input_dim=20, kernel_initializer='random_uniform', activation='softmax'))  \n",
    "    model.compile(loss=r2_keras, optimizer=\"sgd\",metrics=[r2_keras])\n",
    "    model.fit(X, Y, validation_data=(X_val, Y_val), epochs=20)\n",
    "    return model\n",
    "    \n",
    "    \n",
    "def TestScore(features, response, data, model):\n",
    "    print('Output: ', response)\n",
    "    X = data[features]\n",
    "    Y = data[response]\n",
    "    return model.predict(X,Y)\n",
    "    \n",
    "def PlotRegression(features, response, data, model):\n",
    "    import matplotlib.pyplot as plt\n",
    "    X = data[features]\n",
    "    Y = data[response]\n",
    "    y_pred = model.predict(X)\n",
    "    plt.scatter(X, Y, s=10)\n",
    "    plt.plot(X, y_pred, color='r')\n",
    "    plt.show()"
   ]
  },
  {
   "cell_type": "code",
   "execution_count": null,
   "metadata": {},
   "outputs": [],
   "source": [
    "# Clean the data\n",
    "from utils import NutritionData\n",
    "from utils import NutritionModel\n",
    "from utils import INPUT\n",
    "from utils import top23output\n",
    "from utils import top8output\n",
    "from utils import DATA_PATH\n",
    "\n",
    "all_data_file = [os.path.join(DATA_PATH, \"Food_Supply_Quantity_kg_Data.csv\"),\n",
    "                      os.path.join(DATA_PATH, \"Fat_Supply_Quantity_Data.csv\"),\n",
    "                      os.path.join(DATA_PATH, \"Food_Supply_kcal_Data.csv\"),\n",
    "                      os.path.join(DATA_PATH, \"Protein_Supply_Quantity_Data.csv\")]\n",
    "\n",
    "score_dict = {'Method': ['top23output','top8output']}\n",
    "\n",
    "for data in all_data_file:\n",
    "    \n",
    "    print()\n",
    "    data_obj = NutritionData(data_path=data)\n",
    "    model = NutritionModel(dataset=data_obj.dataset)\n",
    "    model.split_data()\n",
    "    train, test = model.train_set, model.test_set\n",
    "    model_1 = Regression(INPUT, top23output, train, test)\n",
    "    model_2 = Regression(INPUT, top8output, train, test)\n",
    "    score_dict[os.path.split(data)[-1]] = [model_1.history.history['val_loss'][0],\n",
    "                                           model_2.history.history['val_loss'][0]]\n",
    "    \n",
    "datafram = pd.DataFrame(score_dict)\n",
    "output_csv_path = os.path.join(DATA_PATH,'models_performance/nn.csv')\n",
    "datafram.to_csv(output_csv_path)\n",
    "\n",
    "\n",
    "\n",
    "    \n",
    "    \n",
    "    "
   ]
  }
 ],
 "metadata": {
  "kernelspec": {
   "display_name": "Python 3",
   "language": "python",
   "name": "python3"
  },
  "language_info": {
   "codemirror_mode": {
    "name": "ipython",
    "version": 3
   },
   "file_extension": ".py",
   "mimetype": "text/x-python",
   "name": "python",
   "nbconvert_exporter": "python",
   "pygments_lexer": "ipython3",
   "version": "3.7.3"
  }
 },
 "nbformat": 4,
 "nbformat_minor": 2
}
